{
 "cells": [
  {
   "cell_type": "code",
   "execution_count": 16,
   "metadata": {},
   "outputs": [
    {
     "name": "stdout",
     "output_type": "stream",
     "text": [
      "  Symbol   Open  Close      Low\n",
      "0   TTMI  15.96  16.08  15.9600\n",
      "1    OEC  18.67  18.98  18.4500\n",
      "2   USDU  25.92  25.88  25.8204\n",
      "3   BWXT  58.15  57.28  57.0250\n",
      "4    WRB  74.29  72.98  72.5900\n",
      "5    WIW   9.38   9.48   9.3500\n",
      "6   MMIT  24.44  24.45  24.3900\n",
      "7    MTG  12.78  12.71  12.6700\n",
      "8   ELVT   1.78   1.81   1.7800\n",
      "9    ASG   5.08   5.06   5.0300\n"
     ]
    }
   ],
   "source": [
    "import requests\n",
    "import pandas as pd\n",
    "\n",
    "API_KEY='q2nRhK2E1GZyP0M3N6F2Vel8woIFGkST'\n",
    "url=f\"https://api.polygon.io/v2/aggs/grouped/locale/us/market/stocks/2023-01-09?adjusted=true&apiKey={API_KEY}\"\n",
    "response=requests.get(url)\n",
    "data=response.json()\n",
    "\n",
    "# Create an empty list to hold the data\n",
    "rows = []\n",
    "\n",
    "# Loop through the results and add them to the list\n",
    "for result in data['results']:\n",
    "    open_price=result['o']\n",
    "    close_price=result['c']\n",
    "    low_price=result['l']\n",
    "    ticker=result['T']\n",
    "    rows.append({'Symbol': ticker, 'Open': open_price, 'Close': close_price, 'Low': low_price})\n",
    "\n",
    "# Create a dataframe from the list of data\n",
    "df = pd.DataFrame(rows, columns=['Symbol', 'Open', 'Close', 'Low'])\n",
    "\n",
    "# Print the dataframe\n",
    "print(df.head(10))\n"
   ]
  },
  {
   "cell_type": "code",
   "execution_count": 19,
   "metadata": {},
   "outputs": [],
   "source": [
    "df.to_csv('~/Desktop/stock_data.csv')"
   ]
  }
 ],
 "metadata": {
  "kernelspec": {
   "display_name": "Python 3",
   "language": "python",
   "name": "python3"
  },
  "language_info": {
   "codemirror_mode": {
    "name": "ipython",
    "version": 3
   },
   "file_extension": ".py",
   "mimetype": "text/x-python",
   "name": "python",
   "nbconvert_exporter": "python",
   "pygments_lexer": "ipython3",
   "version": "3.10.4"
  },
  "orig_nbformat": 4
 },
 "nbformat": 4,
 "nbformat_minor": 2
}
